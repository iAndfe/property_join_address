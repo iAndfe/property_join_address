{
 "cells": [
  {
   "cell_type": "markdown",
   "metadata": {},
   "source": [
    "The script below joins the address and property titles datasets (keeping only relevant columns)\n",
    "<br>\n",
    "<br>\n",
    "The final output keeps the ids for parcels, titles, and addresses if further joins are required\n",
    "<br>\n",
    "<br>\n",
    "Datasets used are provided by LINZ Data Service and licensed for reuse under the CC BY 4.0 licence\n",
    "<br>\n",
    "https://creativecommons.org/licenses/by/4.0/\n",
    "<br>\n",
    "https://data.linz.govt.nz/"
   ]
  },
  {
   "cell_type": "code",
   "execution_count": null,
   "metadata": {},
   "outputs": [],
   "source": [
    "# Import pandas library\n",
    "import pandas as pd\n",
    "\n",
    "# Import datasets\n",
    "# Note: Check filenames are same\n",
    "title = pd.read_csv('nz-property-titles.csv')\n",
    "address = pd.read_csv('nz-street-address.csv')\n",
    "par_assoc = pd.read_csv('nz-title-parcel-association-list.csv')\n",
    "add_ref = pd.read_csv('aims-address.csv')"
   ]
  },
  {
   "cell_type": "code",
   "execution_count": null,
   "metadata": {},
   "outputs": [],
   "source": [
    "# Create clean address column\n",
    "# E.g., '20 Main Street' instead of '1/20A Main Street'\n",
    "address['clean_address'] =  address['address_number'].astype(str) + ' ' + address['full_road_name'] + ', ' +  address['suburb_locality'] + ', ' + address['town_city']\n",
    "address['clean_address_2'] =  address['address_number'].astype(str) + ' ' + address['full_road_name'] + ', ' + address['suburb_locality']\n",
    "address['clean_address'].fillna(address['clean_address_2'], inplace=True)\n",
    "\n",
    "# Join tables\n",
    "# Note: Sometimes different datasets have different columns names so check and change column names below as needed\n",
    "address_2 = address[['address_id', 'full_address', 'clean_address']]\n",
    "join_add_ref = pd.merge(address_2, add_ref[['address_id','parcel_id']], how='inner', on='address_id')\n",
    "join_par_assoc = pd.merge(join_add_ref, par_assoc[['par_id', 'title_no']], how='inner', left_on='parcel_id', right_on='par_id')\n",
    "join_title = pd.merge(join_par_assoc, title[['id', 'title_no']], how='right', on='title_no')\n",
    "\n",
    "# Drop redundant column(s)\n",
    "join_title = join_title.drop(columns=['parcel_id'])\n",
    "\n",
    "# Mark duplicates\n",
    "join_title['duplicate'] = join_title.duplicated(subset=['title_no'], keep=False)\n",
    "\n",
    "# Remove duplicates\n",
    "# Note: Only keeps one of the duplicates, E.g., 1/20A may be kept but 1/20B, 2/20C etc. will be dropped\n",
    "drop_dups = join_title.drop_duplicates(subset=['title_no'], keep='first')"
   ]
  },
  {
   "cell_type": "code",
   "execution_count": null,
   "metadata": {},
   "outputs": [],
   "source": [
    "## Join again with original datasets for extra columns\n",
    "add_title = pd.merge(drop_dups, title[['id', 'type', 'land_district', 'issue_date', 'guarantee_status', 'estate_description']], how='left', on='id')\n",
    "\n",
    "# If you want the property boundaries polygon column, comment the above and uncomment below\n",
    "# add_title = pd.merge(df, title[['WKT', 'id', 'type', 'land_district', 'issue_date', 'guarantee_status', 'estate_description']], how='left', on='id')\n",
    "\n",
    "add_address = pd.merge(address[['address_id', 'shape_X', 'shape_Y', 'full_road_name', 'suburb_locality', 'town_city']], add_title,  how='right', on='address_id')"
   ]
  },
  {
   "cell_type": "code",
   "execution_count": null,
   "metadata": {},
   "outputs": [],
   "source": [
    "# Export to csv\n",
    "add_address.to_csv('df.csv', index=False)"
   ]
  }
 ],
 "metadata": {
  "kernelspec": {
   "display_name": "Python 3.10.4 ('env')",
   "language": "python",
   "name": "python3"
  },
  "language_info": {
   "codemirror_mode": {
    "name": "ipython",
    "version": 3
   },
   "file_extension": ".py",
   "mimetype": "text/x-python",
   "name": "python",
   "nbconvert_exporter": "python",
   "pygments_lexer": "ipython3",
   "version": "3.10.4"
  },
  "orig_nbformat": 4,
  "vscode": {
   "interpreter": {
    "hash": "7658dbaff05c3f2deb063f73ea1eaf94fe75227b805c685148d48cd927ab8812"
   }
  }
 },
 "nbformat": 4,
 "nbformat_minor": 2
}
